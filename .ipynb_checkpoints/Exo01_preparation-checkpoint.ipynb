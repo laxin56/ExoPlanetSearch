{
 "cells": [
  {
   "cell_type": "code",
   "execution_count": 1,
   "id": "da60e994-bb76-478c-8020-425ec3e91fd1",
   "metadata": {},
   "outputs": [],
   "source": [
    "from pyspark.sql import SparkSession\n",
    "import pyspark.sql.functions as sf\n",
    "\n",
    "\n",
    "# Start spark session\n",
    "spark = SparkSession.builder.appName(\"ExoSearch\").getOrCreate()"
   ]
  },
  {
   "cell_type": "code",
   "execution_count": 2,
   "id": "5aa0c740-4f8b-439b-b58a-0f359ad11241",
   "metadata": {},
   "outputs": [],
   "source": [
    "exotrain_df = spark.read.csv(path='exoTrain_new.csv', header=True, inferSchema=True)"
   ]
  },
  {
   "cell_type": "code",
   "execution_count": 3,
   "id": "60c810df-95ac-43a9-ab66-f782fd399199",
   "metadata": {},
   "outputs": [
    {
     "data": {
      "text/html": [
       "<div>\n",
       "<style scoped>\n",
       "    .dataframe tbody tr th:only-of-type {\n",
       "        vertical-align: middle;\n",
       "    }\n",
       "\n",
       "    .dataframe tbody tr th {\n",
       "        vertical-align: top;\n",
       "    }\n",
       "\n",
       "    .dataframe thead th {\n",
       "        text-align: right;\n",
       "    }\n",
       "</style>\n",
       "<table border=\"1\" class=\"dataframe\">\n",
       "  <thead>\n",
       "    <tr style=\"text-align: right;\">\n",
       "      <th></th>\n",
       "      <th>LABEL</th>\n",
       "      <th>FLUX1</th>\n",
       "      <th>FLUX2</th>\n",
       "      <th>FLUX3</th>\n",
       "      <th>FLUX4</th>\n",
       "      <th>FLUX5</th>\n",
       "      <th>FLUX6</th>\n",
       "      <th>FLUX7</th>\n",
       "      <th>FLUX8</th>\n",
       "      <th>FLUX9</th>\n",
       "      <th>...</th>\n",
       "      <th>FLUX3188</th>\n",
       "      <th>FLUX3189</th>\n",
       "      <th>FLUX3190</th>\n",
       "      <th>FLUX3191</th>\n",
       "      <th>FLUX3192</th>\n",
       "      <th>FLUX3193</th>\n",
       "      <th>FLUX3194</th>\n",
       "      <th>FLUX3195</th>\n",
       "      <th>FLUX3196</th>\n",
       "      <th>FLUX3197</th>\n",
       "    </tr>\n",
       "  </thead>\n",
       "  <tbody>\n",
       "    <tr>\n",
       "      <th>0</th>\n",
       "      <td>2</td>\n",
       "      <td>93.85</td>\n",
       "      <td>83.81</td>\n",
       "      <td>20.10</td>\n",
       "      <td>-26.98</td>\n",
       "      <td>-39.56</td>\n",
       "      <td>-124.71</td>\n",
       "      <td>-135.18</td>\n",
       "      <td>-96.27</td>\n",
       "      <td>-79.89</td>\n",
       "      <td>...</td>\n",
       "      <td>-78.07</td>\n",
       "      <td>-102.15</td>\n",
       "      <td>-102.15</td>\n",
       "      <td>25.13</td>\n",
       "      <td>48.57</td>\n",
       "      <td>92.54</td>\n",
       "      <td>39.32</td>\n",
       "      <td>61.42</td>\n",
       "      <td>5.08</td>\n",
       "      <td>-39.54</td>\n",
       "    </tr>\n",
       "    <tr>\n",
       "      <th>1</th>\n",
       "      <td>2</td>\n",
       "      <td>-38.88</td>\n",
       "      <td>-33.83</td>\n",
       "      <td>-58.54</td>\n",
       "      <td>-40.09</td>\n",
       "      <td>-79.31</td>\n",
       "      <td>-72.81</td>\n",
       "      <td>-86.55</td>\n",
       "      <td>-85.33</td>\n",
       "      <td>-83.97</td>\n",
       "      <td>...</td>\n",
       "      <td>-3.28</td>\n",
       "      <td>-32.21</td>\n",
       "      <td>-32.21</td>\n",
       "      <td>-24.89</td>\n",
       "      <td>-4.86</td>\n",
       "      <td>0.76</td>\n",
       "      <td>-11.70</td>\n",
       "      <td>6.46</td>\n",
       "      <td>16.00</td>\n",
       "      <td>19.93</td>\n",
       "    </tr>\n",
       "    <tr>\n",
       "      <th>2</th>\n",
       "      <td>2</td>\n",
       "      <td>532.64</td>\n",
       "      <td>535.92</td>\n",
       "      <td>513.73</td>\n",
       "      <td>496.92</td>\n",
       "      <td>456.45</td>\n",
       "      <td>466.00</td>\n",
       "      <td>464.50</td>\n",
       "      <td>486.39</td>\n",
       "      <td>436.56</td>\n",
       "      <td>...</td>\n",
       "      <td>-71.69</td>\n",
       "      <td>13.31</td>\n",
       "      <td>13.31</td>\n",
       "      <td>-29.89</td>\n",
       "      <td>-20.88</td>\n",
       "      <td>5.06</td>\n",
       "      <td>-11.80</td>\n",
       "      <td>-28.91</td>\n",
       "      <td>-70.02</td>\n",
       "      <td>-96.67</td>\n",
       "    </tr>\n",
       "    <tr>\n",
       "      <th>3</th>\n",
       "      <td>2</td>\n",
       "      <td>326.52</td>\n",
       "      <td>347.39</td>\n",
       "      <td>302.35</td>\n",
       "      <td>298.13</td>\n",
       "      <td>317.74</td>\n",
       "      <td>312.70</td>\n",
       "      <td>322.33</td>\n",
       "      <td>311.31</td>\n",
       "      <td>312.42</td>\n",
       "      <td>...</td>\n",
       "      <td>5.71</td>\n",
       "      <td>-3.73</td>\n",
       "      <td>-3.73</td>\n",
       "      <td>30.05</td>\n",
       "      <td>20.03</td>\n",
       "      <td>-12.67</td>\n",
       "      <td>-8.77</td>\n",
       "      <td>-17.31</td>\n",
       "      <td>-17.35</td>\n",
       "      <td>13.98</td>\n",
       "    </tr>\n",
       "    <tr>\n",
       "      <th>4</th>\n",
       "      <td>2</td>\n",
       "      <td>-1107.21</td>\n",
       "      <td>-1112.59</td>\n",
       "      <td>-1118.95</td>\n",
       "      <td>-1095.10</td>\n",
       "      <td>-1057.55</td>\n",
       "      <td>-1034.48</td>\n",
       "      <td>-998.34</td>\n",
       "      <td>-1022.71</td>\n",
       "      <td>-989.57</td>\n",
       "      <td>...</td>\n",
       "      <td>-594.37</td>\n",
       "      <td>-401.66</td>\n",
       "      <td>-401.66</td>\n",
       "      <td>-357.24</td>\n",
       "      <td>-443.76</td>\n",
       "      <td>-438.54</td>\n",
       "      <td>-399.71</td>\n",
       "      <td>-384.65</td>\n",
       "      <td>-411.79</td>\n",
       "      <td>-510.54</td>\n",
       "    </tr>\n",
       "  </tbody>\n",
       "</table>\n",
       "<p>5 rows × 3198 columns</p>\n",
       "</div>"
      ],
      "text/plain": [
       "   LABEL    FLUX1    FLUX2    FLUX3    FLUX4    FLUX5    FLUX6   FLUX7  \\\n",
       "0      2    93.85    83.81    20.10   -26.98   -39.56  -124.71 -135.18   \n",
       "1      2   -38.88   -33.83   -58.54   -40.09   -79.31   -72.81  -86.55   \n",
       "2      2   532.64   535.92   513.73   496.92   456.45   466.00  464.50   \n",
       "3      2   326.52   347.39   302.35   298.13   317.74   312.70  322.33   \n",
       "4      2 -1107.21 -1112.59 -1118.95 -1095.10 -1057.55 -1034.48 -998.34   \n",
       "\n",
       "     FLUX8   FLUX9  ...  FLUX3188  FLUX3189  FLUX3190  FLUX3191  FLUX3192  \\\n",
       "0   -96.27  -79.89  ...    -78.07   -102.15   -102.15     25.13     48.57   \n",
       "1   -85.33  -83.97  ...     -3.28    -32.21    -32.21    -24.89     -4.86   \n",
       "2   486.39  436.56  ...    -71.69     13.31     13.31    -29.89    -20.88   \n",
       "3   311.31  312.42  ...      5.71     -3.73     -3.73     30.05     20.03   \n",
       "4 -1022.71 -989.57  ...   -594.37   -401.66   -401.66   -357.24   -443.76   \n",
       "\n",
       "   FLUX3193  FLUX3194  FLUX3195  FLUX3196  FLUX3197  \n",
       "0     92.54     39.32     61.42      5.08    -39.54  \n",
       "1      0.76    -11.70      6.46     16.00     19.93  \n",
       "2      5.06    -11.80    -28.91    -70.02    -96.67  \n",
       "3    -12.67     -8.77    -17.31    -17.35     13.98  \n",
       "4   -438.54   -399.71   -384.65   -411.79   -510.54  \n",
       "\n",
       "[5 rows x 3198 columns]"
      ]
     },
     "execution_count": 3,
     "metadata": {},
     "output_type": "execute_result"
    }
   ],
   "source": [
    "exotrain_df.limit(1000).toPandas().head()"
   ]
  },
  {
   "cell_type": "code",
   "execution_count": 4,
   "id": "c8a12219-cc5d-4ef6-8e0e-2afecf75607e",
   "metadata": {},
   "outputs": [
    {
     "data": {
      "text/plain": [
       "5087"
      ]
     },
     "execution_count": 4,
     "metadata": {},
     "output_type": "execute_result"
    }
   ],
   "source": [
    "# 1 has confirmed to be only one planet system and 2 means that it can be multi-planet system\n",
    "\n",
    "# How many stars there is in a dataset\n",
    "exotrain_df.count()"
   ]
  },
  {
   "cell_type": "code",
   "execution_count": 12,
   "id": "2400ce3d-3a42-4752-a3c8-4b8fbdfc652d",
   "metadata": {},
   "outputs": [],
   "source": [
    "empty_dict = [exotrain_df.filter(exotrain_df[str(col)].isNull()).count() for col in exotrain_df.columns]"
   ]
  },
  {
   "cell_type": "code",
   "execution_count": 16,
   "id": "feda3ec1-af48-4155-86ad-6563d92ddeee",
   "metadata": {},
   "outputs": [
    {
     "name": "stdout",
     "output_type": "stream",
     "text": [
      "[]\n"
     ]
    }
   ],
   "source": [
    "# Check how many columns have null values\n",
    "print([x for x in empty_dict if x!=0])"
   ]
  },
  {
   "cell_type": "markdown",
   "id": "6ebc2b17-2c00-433b-9617-d3713a7ef5f8",
   "metadata": {},
   "source": [
    "## Begin machine learning part with spark"
   ]
  },
  {
   "cell_type": "code",
   "execution_count": 8,
   "id": "27de6b56-3324-49b3-9cfc-eb5f15083e2d",
   "metadata": {},
   "outputs": [],
   "source": [
    "from pyspark.ml.feature import VectorAssembler, StandardScaler"
   ]
  },
  {
   "cell_type": "code",
   "execution_count": 11,
   "id": "f3d4f78c-d10b-44bd-87d6-b206e58dc853",
   "metadata": {},
   "outputs": [],
   "source": [
    "old_columns = exotrain_df.columns\n",
    "\n",
    "assembler = VectorAssembler(inputCols=old_columns, outputCol=\"features\")\n",
    "assembled_df = assembler.transform(exotrain_df)\n",
    "\n",
    "scaler = StandardScaler(inputCol=\"features\", outputCol=\"scaled_features\")\n",
    "\n",
    "# fit and transform\n",
    "scaled_model = scaler.fit(assembled_df)\n",
    "scaled_df = scaled_model.transform(assembled_df)"
   ]
  },
  {
   "cell_type": "code",
   "execution_count": null,
   "id": "ae82c0d9-eec9-470c-a512-1899692f02ea",
   "metadata": {},
   "outputs": [],
   "source": [
    "#empty_dict = {exotrain_df.filter(exotrain_df[str(col)].isNull()).count() for col in exotrain_df.columns}"
   ]
  }
 ],
 "metadata": {
  "kernelspec": {
   "display_name": "Python 3 (ipykernel)",
   "language": "python",
   "name": "python3"
  },
  "language_info": {
   "codemirror_mode": {
    "name": "ipython",
    "version": 3
   },
   "file_extension": ".py",
   "mimetype": "text/x-python",
   "name": "python",
   "nbconvert_exporter": "python",
   "pygments_lexer": "ipython3",
   "version": "3.9.13"
  }
 },
 "nbformat": 4,
 "nbformat_minor": 5
}

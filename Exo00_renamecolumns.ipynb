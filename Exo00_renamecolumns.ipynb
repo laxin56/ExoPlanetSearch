{
 "cells": [
  {
   "cell_type": "code",
   "execution_count": 1,
   "id": "b434094c-d619-4725-9576-5c645071755b",
   "metadata": {},
   "outputs": [],
   "source": [
    "import csv\n",
    "\n",
    "# Step 1: Open and Read CSV File\n",
    "with open('exoTest.csv', 'r') as file:\n",
    "    reader = csv.reader(file)\n",
    "    header = next(reader)  # Read the header row\n",
    "    data = list(reader)    # Read the rest of the data rows\n",
    "\n",
    "# Step 2: Modify Column Names (Remove \".\")\n",
    "new_header = [col.replace(\".\", \"\") for col in header]\n",
    "\n",
    "# Step 3: Write Modified Data to a New CSV File\n",
    "with open('exoTest_new.csv', 'w', newline='') as file:\n",
    "    writer = csv.writer(file)\n",
    "    writer.writerow(new_header)  # Write the modified header\n",
    "    writer.writerows(data)       # Write the rest of the data rows"
   ]
  }
 ],
 "metadata": {
  "kernelspec": {
   "display_name": "Python 3 (ipykernel)",
   "language": "python",
   "name": "python3"
  },
  "language_info": {
   "codemirror_mode": {
    "name": "ipython",
    "version": 3
   },
   "file_extension": ".py",
   "mimetype": "text/x-python",
   "name": "python",
   "nbconvert_exporter": "python",
   "pygments_lexer": "ipython3",
   "version": "3.9.13"
  }
 },
 "nbformat": 4,
 "nbformat_minor": 5
}
